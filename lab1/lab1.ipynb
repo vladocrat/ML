{
 "cells": [
  {
   "cell_type": "code",
   "execution_count": 1,
   "metadata": {},
   "outputs": [],
   "source": [
    "import pandas as pd\n",
    "\n",
    "airquality_df = pd.read_csv(\"airquality.csv\")"
   ]
  },
  {
   "cell_type": "code",
   "execution_count": 2,
   "metadata": {},
   "outputs": [
    {
     "data": {
      "text/html": [
       "<div>\n",
       "<style scoped>\n",
       "    .dataframe tbody tr th:only-of-type {\n",
       "        vertical-align: middle;\n",
       "    }\n",
       "\n",
       "    .dataframe tbody tr th {\n",
       "        vertical-align: top;\n",
       "    }\n",
       "\n",
       "    .dataframe thead th {\n",
       "        text-align: right;\n",
       "    }\n",
       "</style>\n",
       "<table border=\"1\" class=\"dataframe\">\n",
       "  <thead>\n",
       "    <tr style=\"text-align: right;\">\n",
       "      <th></th>\n",
       "      <th>Unnamed: 0</th>\n",
       "      <th>Ozone</th>\n",
       "      <th>Solar.R</th>\n",
       "      <th>Wind</th>\n",
       "      <th>Temp</th>\n",
       "      <th>Month</th>\n",
       "      <th>Day</th>\n",
       "    </tr>\n",
       "  </thead>\n",
       "  <tbody>\n",
       "    <tr>\n",
       "      <th>0</th>\n",
       "      <td>1</td>\n",
       "      <td>41.0</td>\n",
       "      <td>190.0</td>\n",
       "      <td>7.4</td>\n",
       "      <td>67</td>\n",
       "      <td>5</td>\n",
       "      <td>1</td>\n",
       "    </tr>\n",
       "    <tr>\n",
       "      <th>1</th>\n",
       "      <td>2</td>\n",
       "      <td>36.0</td>\n",
       "      <td>118.0</td>\n",
       "      <td>8.0</td>\n",
       "      <td>72</td>\n",
       "      <td>5</td>\n",
       "      <td>2</td>\n",
       "    </tr>\n",
       "    <tr>\n",
       "      <th>2</th>\n",
       "      <td>3</td>\n",
       "      <td>12.0</td>\n",
       "      <td>149.0</td>\n",
       "      <td>12.6</td>\n",
       "      <td>74</td>\n",
       "      <td>5</td>\n",
       "      <td>3</td>\n",
       "    </tr>\n",
       "    <tr>\n",
       "      <th>3</th>\n",
       "      <td>4</td>\n",
       "      <td>18.0</td>\n",
       "      <td>313.0</td>\n",
       "      <td>11.5</td>\n",
       "      <td>62</td>\n",
       "      <td>5</td>\n",
       "      <td>4</td>\n",
       "    </tr>\n",
       "    <tr>\n",
       "      <th>4</th>\n",
       "      <td>5</td>\n",
       "      <td>NaN</td>\n",
       "      <td>NaN</td>\n",
       "      <td>14.3</td>\n",
       "      <td>56</td>\n",
       "      <td>5</td>\n",
       "      <td>5</td>\n",
       "    </tr>\n",
       "  </tbody>\n",
       "</table>\n",
       "</div>"
      ],
      "text/plain": [
       "   Unnamed: 0  Ozone  Solar.R  Wind  Temp  Month  Day\n",
       "0           1   41.0    190.0   7.4    67      5    1\n",
       "1           2   36.0    118.0   8.0    72      5    2\n",
       "2           3   12.0    149.0  12.6    74      5    3\n",
       "3           4   18.0    313.0  11.5    62      5    4\n",
       "4           5    NaN      NaN  14.3    56      5    5"
      ]
     },
     "execution_count": 2,
     "metadata": {},
     "output_type": "execute_result"
    }
   ],
   "source": [
    "airquality_df.head()"
   ]
  },
  {
   "cell_type": "code",
   "execution_count": 3,
   "metadata": {},
   "outputs": [
    {
     "name": "stdout",
     "output_type": "stream",
     "text": [
      "There are 153 rows\n",
      "There are 7 columns\n"
     ]
    }
   ],
   "source": [
    "num_rows = len(airquality_df)\n",
    "num_columns = len(airquality_df.columns)\n",
    "\n",
    "print (f'There are {num_rows} rows')\n",
    "print (f'There are {num_columns} columns')"
   ]
  },
  {
   "cell_type": "code",
   "execution_count": 4,
   "metadata": {},
   "outputs": [
    {
     "name": "stdout",
     "output_type": "stream",
     "text": [
      "Amount of rows without NA values: 111\n"
     ]
    }
   ],
   "source": [
    "print(f'Amount of rows without NA values: {len(airquality_df.dropna())}')"
   ]
  },
  {
   "cell_type": "code",
   "execution_count": 5,
   "metadata": {},
   "outputs": [
    {
     "name": "stdout",
     "output_type": "stream",
     "text": [
      "Amount of rows that have Ozone and Solar.R values simultaniously missing: 2\n"
     ]
    }
   ],
   "source": [
    "print(f'Amount of rows that have Ozone and Solar.R values simultaniously missing: {len(airquality_df[(airquality_df['Ozone'].isna()) & (airquality_df['Solar.R'].isna())])}')"
   ]
  },
  {
   "cell_type": "code",
   "execution_count": 6,
   "metadata": {},
   "outputs": [
    {
     "name": "stdout",
     "output_type": "stream",
     "text": [
      "Ozone { min value: 1.0, max value: 168.0, mean value: 42.12931034482759}\n",
      "Solar.R { min value: 7.0, max value: 334.0, mean value: 185.93150684931507}\n",
      "Wind { min value: 1.7, max value: 20.7, mean value: 9.957516339869281}\n",
      "Temp { min value: 56, max value: 97, mean value: 77.88235294117646}\n"
     ]
    }
   ],
   "source": [
    "def print_values(column_name):\n",
    "    min = airquality_df[column_name].min()\n",
    "    max = airquality_df[column_name].max()\n",
    "    mean = airquality_df[column_name].mean()\n",
    "    print(f'{column_name} {{ min value: {min}, max value: {max}, mean value: {mean}}}') \n",
    "\n",
    "print_values('Ozone')\n",
    "print_values('Solar.R')\n",
    "print_values('Wind')\n",
    "print_values('Temp')"
   ]
  },
  {
   "cell_type": "code",
   "execution_count": 7,
   "metadata": {},
   "outputs": [
    {
     "name": "stdout",
     "output_type": "stream",
     "text": [
      "Mean value from Solar.R by month 5: 181.2962962962963\n"
     ]
    }
   ],
   "source": [
    "months_df = airquality_df[airquality_df['Month'] == 5]\n",
    "mean_value = months_df['Solar.R'].mean()\n",
    "print(f'Mean value from Solar.R by month 5: {mean_value}')"
   ]
  },
  {
   "cell_type": "code",
   "execution_count": 8,
   "metadata": {},
   "outputs": [
    {
     "name": "stdout",
     "output_type": "stream",
     "text": [
      "Mean value from Ozone depending on temperature range: 23.4\n"
     ]
    }
   ],
   "source": [
    "from meanAir import meanAir\n",
    "\n",
    "column_name = 'Ozone'\n",
    "print(f'Mean value from {column_name} depending on temperature range: {meanAir(airquality_df, column_name)}')"
   ]
  },
  {
   "cell_type": "code",
   "execution_count": 9,
   "metadata": {},
   "outputs": [
    {
     "name": "stdout",
     "output_type": "stream",
     "text": [
      "Month\n",
      "5    181.296296\n",
      "6    190.166667\n",
      "7    216.483871\n",
      "8    171.857143\n",
      "9    167.433333\n",
      "dtype: float64\n"
     ]
    },
    {
     "name": "stderr",
     "output_type": "stream",
     "text": [
      "C:\\Users\\vlado\\AppData\\Local\\Temp\\ipykernel_15792\\868197681.py:5: DeprecationWarning: DataFrameGroupBy.apply operated on the grouping columns. This behavior is deprecated, and in a future version of pandas the grouping columns will be excluded from the operation. Either pass `include_groups=False` to exclude the groupings or explicitly select the grouping columns after groupby to silence this warning.\n",
      "  result = airquality_df.groupby('Month').apply(calculate_mean)\n"
     ]
    },
    {
     "data": {
      "text/plain": [
       "Month\n",
       "5    181.296296\n",
       "6    190.166667\n",
       "7    216.483871\n",
       "8    171.857143\n",
       "9    167.433333\n",
       "Name: Solar.R, dtype: float64"
      ]
     },
     "execution_count": 9,
     "metadata": {},
     "output_type": "execute_result"
    }
   ],
   "source": [
    "def calculate_mean(group):\n",
    "    return group['Solar.R'].mean()\n",
    "\n",
    "#first method\n",
    "result = airquality_df.groupby('Month').apply(calculate_mean)\n",
    "print(result)\n",
    "\n",
    "#second method\n",
    "result = airquality_df.groupby('Month')['Solar.R'].mean()\n",
    "result"
   ]
  },
  {
   "cell_type": "code",
   "execution_count": 10,
   "metadata": {},
   "outputs": [
    {
     "data": {
      "text/html": [
       "<div>\n",
       "<style scoped>\n",
       "    .dataframe tbody tr th:only-of-type {\n",
       "        vertical-align: middle;\n",
       "    }\n",
       "\n",
       "    .dataframe tbody tr th {\n",
       "        vertical-align: top;\n",
       "    }\n",
       "\n",
       "    .dataframe thead th {\n",
       "        text-align: right;\n",
       "    }\n",
       "</style>\n",
       "<table border=\"1\" class=\"dataframe\">\n",
       "  <thead>\n",
       "    <tr style=\"text-align: right;\">\n",
       "      <th></th>\n",
       "      <th>Month</th>\n",
       "      <th>Day</th>\n",
       "    </tr>\n",
       "  </thead>\n",
       "  <tbody>\n",
       "    <tr>\n",
       "      <th>119</th>\n",
       "      <td>8</td>\n",
       "      <td>28</td>\n",
       "    </tr>\n",
       "    <tr>\n",
       "      <th>121</th>\n",
       "      <td>8</td>\n",
       "      <td>30</td>\n",
       "    </tr>\n",
       "    <tr>\n",
       "      <th>120</th>\n",
       "      <td>8</td>\n",
       "      <td>29</td>\n",
       "    </tr>\n",
       "    <tr>\n",
       "      <th>122</th>\n",
       "      <td>8</td>\n",
       "      <td>31</td>\n",
       "    </tr>\n",
       "    <tr>\n",
       "      <th>41</th>\n",
       "      <td>6</td>\n",
       "      <td>11</td>\n",
       "    </tr>\n",
       "  </tbody>\n",
       "</table>\n",
       "</div>"
      ],
      "text/plain": [
       "     Month  Day\n",
       "119      8   28\n",
       "121      8   30\n",
       "120      8   29\n",
       "122      8   31\n",
       "41       6   11"
      ]
     },
     "execution_count": 10,
     "metadata": {},
     "output_type": "execute_result"
    }
   ],
   "source": [
    "def maxTemp(days = 1):\n",
    "    return airquality_df.nlargest(days, 'Temp')[['Month', 'Day']]\n",
    "   \n",
    "maxTemp(5)"
   ]
  },
  {
   "cell_type": "code",
   "execution_count": 11,
   "metadata": {},
   "outputs": [
    {
     "name": "stdout",
     "output_type": "stream",
     "text": [
      "full data set length: 153, df length after crop: 122\n"
     ]
    },
    {
     "data": {
      "text/html": [
       "<div>\n",
       "<style scoped>\n",
       "    .dataframe tbody tr th:only-of-type {\n",
       "        vertical-align: middle;\n",
       "    }\n",
       "\n",
       "    .dataframe tbody tr th {\n",
       "        vertical-align: top;\n",
       "    }\n",
       "\n",
       "    .dataframe thead th {\n",
       "        text-align: right;\n",
       "    }\n",
       "</style>\n",
       "<table border=\"1\" class=\"dataframe\">\n",
       "  <thead>\n",
       "    <tr style=\"text-align: right;\">\n",
       "      <th></th>\n",
       "      <th>Unnamed: 0</th>\n",
       "      <th>Ozone</th>\n",
       "      <th>Solar.R</th>\n",
       "      <th>Wind</th>\n",
       "      <th>Temp</th>\n",
       "      <th>Month</th>\n",
       "      <th>Day</th>\n",
       "    </tr>\n",
       "  </thead>\n",
       "  <tbody>\n",
       "    <tr>\n",
       "      <th>93</th>\n",
       "      <td>94</td>\n",
       "      <td>9.0</td>\n",
       "      <td>24.0</td>\n",
       "      <td>13.8</td>\n",
       "      <td>81</td>\n",
       "      <td>8</td>\n",
       "      <td>2</td>\n",
       "    </tr>\n",
       "    <tr>\n",
       "      <th>4</th>\n",
       "      <td>5</td>\n",
       "      <td>NaN</td>\n",
       "      <td>NaN</td>\n",
       "      <td>14.3</td>\n",
       "      <td>56</td>\n",
       "      <td>5</td>\n",
       "      <td>5</td>\n",
       "    </tr>\n",
       "    <tr>\n",
       "      <th>85</th>\n",
       "      <td>86</td>\n",
       "      <td>108.0</td>\n",
       "      <td>223.0</td>\n",
       "      <td>8.0</td>\n",
       "      <td>85</td>\n",
       "      <td>7</td>\n",
       "      <td>25</td>\n",
       "    </tr>\n",
       "    <tr>\n",
       "      <th>106</th>\n",
       "      <td>107</td>\n",
       "      <td>NaN</td>\n",
       "      <td>64.0</td>\n",
       "      <td>11.5</td>\n",
       "      <td>79</td>\n",
       "      <td>8</td>\n",
       "      <td>15</td>\n",
       "    </tr>\n",
       "    <tr>\n",
       "      <th>66</th>\n",
       "      <td>67</td>\n",
       "      <td>40.0</td>\n",
       "      <td>314.0</td>\n",
       "      <td>10.9</td>\n",
       "      <td>83</td>\n",
       "      <td>7</td>\n",
       "      <td>6</td>\n",
       "    </tr>\n",
       "    <tr>\n",
       "      <th>...</th>\n",
       "      <td>...</td>\n",
       "      <td>...</td>\n",
       "      <td>...</td>\n",
       "      <td>...</td>\n",
       "      <td>...</td>\n",
       "      <td>...</td>\n",
       "      <td>...</td>\n",
       "    </tr>\n",
       "    <tr>\n",
       "      <th>150</th>\n",
       "      <td>151</td>\n",
       "      <td>14.0</td>\n",
       "      <td>191.0</td>\n",
       "      <td>14.3</td>\n",
       "      <td>75</td>\n",
       "      <td>9</td>\n",
       "      <td>28</td>\n",
       "    </tr>\n",
       "    <tr>\n",
       "      <th>77</th>\n",
       "      <td>78</td>\n",
       "      <td>35.0</td>\n",
       "      <td>274.0</td>\n",
       "      <td>10.3</td>\n",
       "      <td>82</td>\n",
       "      <td>7</td>\n",
       "      <td>17</td>\n",
       "    </tr>\n",
       "    <tr>\n",
       "      <th>2</th>\n",
       "      <td>3</td>\n",
       "      <td>12.0</td>\n",
       "      <td>149.0</td>\n",
       "      <td>12.6</td>\n",
       "      <td>74</td>\n",
       "      <td>5</td>\n",
       "      <td>3</td>\n",
       "    </tr>\n",
       "    <tr>\n",
       "      <th>10</th>\n",
       "      <td>11</td>\n",
       "      <td>7.0</td>\n",
       "      <td>NaN</td>\n",
       "      <td>6.9</td>\n",
       "      <td>74</td>\n",
       "      <td>5</td>\n",
       "      <td>11</td>\n",
       "    </tr>\n",
       "    <tr>\n",
       "      <th>90</th>\n",
       "      <td>91</td>\n",
       "      <td>64.0</td>\n",
       "      <td>253.0</td>\n",
       "      <td>7.4</td>\n",
       "      <td>83</td>\n",
       "      <td>7</td>\n",
       "      <td>30</td>\n",
       "    </tr>\n",
       "  </tbody>\n",
       "</table>\n",
       "<p>122 rows × 7 columns</p>\n",
       "</div>"
      ],
      "text/plain": [
       "     Unnamed: 0  Ozone  Solar.R  Wind  Temp  Month  Day\n",
       "93           94    9.0     24.0  13.8    81      8    2\n",
       "4             5    NaN      NaN  14.3    56      5    5\n",
       "85           86  108.0    223.0   8.0    85      7   25\n",
       "106         107    NaN     64.0  11.5    79      8   15\n",
       "66           67   40.0    314.0  10.9    83      7    6\n",
       "..          ...    ...      ...   ...   ...    ...  ...\n",
       "150         151   14.0    191.0  14.3    75      9   28\n",
       "77           78   35.0    274.0  10.3    82      7   17\n",
       "2             3   12.0    149.0  12.6    74      5    3\n",
       "10           11    7.0      NaN   6.9    74      5   11\n",
       "90           91   64.0    253.0   7.4    83      7   30\n",
       "\n",
       "[122 rows x 7 columns]"
      ]
     },
     "execution_count": 11,
     "metadata": {},
     "output_type": "execute_result"
    }
   ],
   "source": [
    "import numpy as np\n",
    "\n",
    "def testSet(perc = 20):\n",
    "    if (perc < 0 or perc > 100):\n",
    "        raise Exception(\"perc value out of range\")\n",
    "    \n",
    "    return airquality_df.sample(frac=(perc / 100), random_state=np.random.RandomState(seed=228))\n",
    "    \n",
    "new_df = testSet(80) \n",
    "print(f'full data set length: {len(airquality_df)}, df length after crop: {len(new_df)}')\n",
    "new_df"
   ]
  }
 ],
 "metadata": {
  "kernelspec": {
   "display_name": "lab1",
   "language": "python",
   "name": "python3"
  },
  "language_info": {
   "codemirror_mode": {
    "name": "ipython",
    "version": 3
   },
   "file_extension": ".py",
   "mimetype": "text/x-python",
   "name": "python",
   "nbconvert_exporter": "python",
   "pygments_lexer": "ipython3",
   "version": "3.12.5"
  }
 },
 "nbformat": 4,
 "nbformat_minor": 2
}
