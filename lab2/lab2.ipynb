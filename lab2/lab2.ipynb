{
 "cells": [
  {
   "cell_type": "code",
   "execution_count": 46,
   "metadata": {},
   "outputs": [],
   "source": [
    "from ucimlrepo import fetch_ucirepo \n",
    "  \n",
    "iris = fetch_ucirepo(id=53) \n",
    "  \n",
    "features = iris.data.features \n",
    "targets = iris.data.targets "
   ]
  },
  {
   "cell_type": "code",
   "execution_count": null,
   "metadata": {},
   "outputs": [],
   "source": [
    "import pandas as pd\n",
    "import numpy as np\n",
    "\n",
    "feature_names = [\"sepal length\", \"sepal width\", \"petal length\", \"petal width\"]\n",
    "\n",
    "df = pd.DataFrame(features, columns=[f'{feature_names[i]}' for i in range(features.shape[1])])\n",
    "df['target'] = targets\n",
    "\n",
    "np.random.seed(42)\n",
    "\n",
    "shuffled_indices = np.random.permutation(df.index)\n",
    "\n",
    "train_indices = shuffled_indices[:int(len(shuffled_indices) * 0.8)]\n",
    "\n",
    "train_data = df.loc[train_indices]\n",
    "\n",
    "test_data = df.drop(train_indices)\n",
    "\n",
    "print(f\"Размер исходного набора данных: {len(df)}\")\n",
    "print(f\"Размер обучающего множества: {len(train_data)}\")\n",
    "print(f\"Размер тестового множества: {len(test_data)}\")\n",
    "train_data"
   ]
  },
  {
   "cell_type": "code",
   "execution_count": null,
   "metadata": {},
   "outputs": [],
   "source": [
    "def df_metadata(df):\n",
    "    num_rows = len(df)\n",
    "        \n",
    "    print(f\"\\nКоличество строк во множестве: {num_rows}\")\n",
    "        \n",
    "    class_counts = df['target'].value_counts()\n",
    "    print(\"\\nКоличество объектов в каждом классе:\")\n",
    "    print(class_counts)\n",
    "        \n",
    "    missing_values_count = df.isna().sum()\n",
    "    print(\"\\nКоличество пропущенных значений:\")\n",
    "    print(missing_values_count)\n",
    "        \n",
    "    stats = df.describe()\n",
    "    print(\"\\nСтатистика для каждого параметра:\")\n",
    "    print(stats)\n",
    "\n",
    "df_metadata(train_data)\n",
    "#df_metadata(test_data)   "
   ]
  },
  {
   "cell_type": "code",
   "execution_count": null,
   "metadata": {},
   "outputs": [],
   "source": [
    "from sklearn.model_selection import train_test_split\n",
    "from sklearn.naive_bayes import GaussianNB\n",
    "from sklearn.metrics import accuracy_score, classification_report, confusion_matrix\n",
    "\n",
    "def print_report(df, df_pred):\n",
    "    accuracy = accuracy_score(df, df_pred)\n",
    "    print(f\"Точность модели на обучающем множестве: {accuracy:.5f}\")\n",
    "\n",
    "    report = classification_report(df, df_pred)\n",
    "    print(\"\\nОтчет о классификации:\")\n",
    "    print(report)\n",
    "\n",
    "    conf_mat = confusion_matrix(df, df_pred)\n",
    "    print(\"\\nМатрица ошибок:\")\n",
    "    print(conf_mat)\n",
    "\n",
    "def predict(x, y):\n",
    "    gnb = GaussianNB()\n",
    "    gnb.fit(x, y)\n",
    "    return gnb.predict(x)\n",
    "\n",
    "X_train = train_data.drop('target', axis=1)\n",
    "y_train = train_data['target']\n",
    "\n",
    "print_report(y_train, predict(X_train, y_train))"
   ]
  },
  {
   "cell_type": "code",
   "execution_count": null,
   "metadata": {},
   "outputs": [],
   "source": [
    "X_train = train_data[['sepal length', 'sepal width']]\n",
    "y_train = train_data['target']\n",
    "\n",
    "print_report(y_train, predict(X_train, y_train))"
   ]
  },
  {
   "cell_type": "code",
   "execution_count": 76,
   "metadata": {},
   "outputs": [
    {
     "name": "stdout",
     "output_type": "stream",
     "text": [
      "Точность модели на обучающем множестве: 0.94167\n",
      "\n",
      "Отчет о классификации:\n",
      "                 precision    recall  f1-score   support\n",
      "\n",
      "    Iris-setosa       1.00      1.00      1.00        43\n",
      "Iris-versicolor       0.85      1.00      0.92        39\n",
      " Iris-virginica       1.00      0.82      0.90        38\n",
      "\n",
      "       accuracy                           0.94       120\n",
      "      macro avg       0.95      0.94      0.94       120\n",
      "   weighted avg       0.95      0.94      0.94       120\n",
      "\n",
      "\n",
      "Матрица ошибок:\n",
      "[[43  0  0]\n",
      " [ 0 39  0]\n",
      " [ 0  7 31]]\n"
     ]
    }
   ],
   "source": [
    "from sklearn.model_selection import train_test_split\n",
    "from sklearn.tree import DecisionTreeClassifier\n",
    "from sklearn.preprocessing import StandardScaler\n",
    "\n",
    "X_train = train_data[['sepal length', 'sepal width']]\n",
    "y_train = train_data['target']\n",
    "\n",
    "dtc = DecisionTreeClassifier(random_state=42)\n",
    "dtc.fit(X_train, y_train)\n",
    "\n",
    "print_report(y_train, dtc.predict(X_train))"
   ]
  }
 ],
 "metadata": {
  "kernelspec": {
   "display_name": "lab2",
   "language": "python",
   "name": "python3"
  },
  "language_info": {
   "codemirror_mode": {
    "name": "ipython",
    "version": 3
   },
   "file_extension": ".py",
   "mimetype": "text/x-python",
   "name": "python",
   "nbconvert_exporter": "python",
   "pygments_lexer": "ipython3",
   "version": "3.12.7"
  }
 },
 "nbformat": 4,
 "nbformat_minor": 2
}
