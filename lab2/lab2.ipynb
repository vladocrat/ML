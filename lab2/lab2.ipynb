{
 "cells": [
  {
   "cell_type": "code",
   "execution_count": 5,
   "metadata": {},
   "outputs": [],
   "source": [
    "from ucimlrepo import fetch_ucirepo \n",
    "  \n",
    "iris = fetch_ucirepo(id=53) \n",
    "  \n",
    "features = iris.data.features \n",
    "targets = iris.data.targets "
   ]
  },
  {
   "cell_type": "code",
   "execution_count": null,
   "metadata": {},
   "outputs": [],
   "source": [
    "import pandas as pd\n",
    "import numpy as np\n",
    "from sklearn.model_selection import train_test_split\n",
    "\n",
    "feature_names = [\"sepal length\", \"sepal width\", \"petal length\", \"petal width\"]\n",
    "\n",
    "df = pd.DataFrame(features, columns=[f'{feature_names[i]}' for i in range(features.shape[1])])\n",
    "df['target'] = targets\n",
    "\n",
    "X_train, X_test, y_train, y_test = train_test_split(features, targets, test_size=0.2, random_state=42)\n",
    "\n",
    "shuffled_indices = np.random.permutation(df.index)\n",
    "train_indices = shuffled_indices[:int(len(shuffled_indices) * 0.8)]\n",
    "train_data = df.loc[train_indices]\n",
    "test_data = df.drop(train_indices)\n",
    "\n",
    "print(f\"Размер исходного набора данных: {len(df)}\")\n",
    "print(f\"Размер обучающего множества: {len(X_train)}\")\n",
    "print(f\"Размер тестового множества: {len(X_test)}\")\n",
    "X_train"
   ]
  },
  {
   "cell_type": "code",
   "execution_count": 31,
   "metadata": {},
   "outputs": [],
   "source": [
    "def df_metadata(df):\n",
    "    num_rows = len(df)\n",
    "        \n",
    "    print(f\"\\nКоличество строк во множестве: {num_rows}\")\n",
    "        \n",
    "    class_counts = df['target'].value_counts()\n",
    "    print(\"\\nКоличество объектов в каждом классе:\")\n",
    "    print(class_counts)\n",
    "        \n",
    "    missing_values_count = df.isna().sum()\n",
    "    print(\"\\nКоличество пропущенных значений:\")\n",
    "    print(missing_values_count)\n",
    "        \n",
    "    stats = df.describe()\n",
    "    print(\"\\nСтатистика для каждого параметра:\")\n",
    "    print(stats)\n",
    "\n",
    "#df_metadata(train_data)\n",
    "#df_metadata(test_data)"
   ]
  },
  {
   "cell_type": "code",
   "execution_count": null,
   "metadata": {},
   "outputs": [],
   "source": [
    "from sklearn.model_selection import train_test_split\n",
    "from sklearn.naive_bayes import GaussianNB\n",
    "from sklearn.metrics import accuracy_score, classification_report, confusion_matrix\n",
    "\n",
    "def print_report(y_test, y_pred):\n",
    "    accuracy = accuracy_score(y_test, y_pred)\n",
    "    print(f\"Точность модели на обучающем множестве: {accuracy:.5f}\")\n",
    "\n",
    "    report = classification_report(y_test, y_pred)\n",
    "    print(\"\\nОтчет о классификации:\")\n",
    "    print(report)\n",
    "\n",
    "    conf_mat = confusion_matrix(y_test, y_pred)\n",
    "    print(\"\\nМатрица ошибок:\")\n",
    "    print(conf_mat)\n",
    "\n",
    "def predict(x, y, x_test):\n",
    "    gnb = GaussianNB()\n",
    "    gnb.fit(x, y)\n",
    "    return gnb.predict(x_test)\n",
    "\n",
    "print_report(y_test, predict(X_train, y_train, X_test))"
   ]
  },
  {
   "cell_type": "code",
   "execution_count": 70,
   "metadata": {},
   "outputs": [],
   "source": [
    "def get_specific_features(selected_features):\n",
    "    all_features = list(iris.data.features.columns)\n",
    "\n",
    "    feature_indices = {name: i for i, name in enumerate(all_features)}\n",
    "\n",
    "    X = iris.data.features.iloc[:, [feature_indices[feat] for feat in selected_features]]\n",
    "    y = iris.data.targets\n",
    "    return train_test_split(X, y, test_size=0.2, random_state=42)"
   ]
  },
  {
   "cell_type": "code",
   "execution_count": 71,
   "metadata": {},
   "outputs": [
    {
     "name": "stdout",
     "output_type": "stream",
     "text": [
      "Точность модели на обучающем множестве: 0.90000\n",
      "\n",
      "Отчет о классификации:\n",
      "                 precision    recall  f1-score   support\n",
      "\n",
      "    Iris-setosa       1.00      1.00      1.00        10\n",
      "Iris-versicolor       0.88      0.78      0.82         9\n",
      " Iris-virginica       0.83      0.91      0.87        11\n",
      "\n",
      "       accuracy                           0.90        30\n",
      "      macro avg       0.90      0.90      0.90        30\n",
      "   weighted avg       0.90      0.90      0.90        30\n",
      "\n",
      "\n",
      "Матрица ошибок:\n",
      "[[10  0  0]\n",
      " [ 0  7  2]\n",
      " [ 0  1 10]]\n"
     ]
    },
    {
     "name": "stderr",
     "output_type": "stream",
     "text": [
      "d:\\python_projects\\ML\\lab2\\Lib\\site-packages\\sklearn\\utils\\validation.py:1339: DataConversionWarning: A column-vector y was passed when a 1d array was expected. Please change the shape of y to (n_samples, ), for example using ravel().\n",
      "  y = column_or_1d(y, warn=True)\n"
     ]
    }
   ],
   "source": [
    "X_train, X_test, y_train, y_test = get_specific_features(['sepal length', 'sepal width'])\n",
    "print_report(y_test, predict(X_train, y_train, X_test))"
   ]
  },
  {
   "cell_type": "code",
   "execution_count": null,
   "metadata": {},
   "outputs": [],
   "source": [
    "from sklearn.model_selection import train_test_split\n",
    "from sklearn.tree import DecisionTreeClassifier, plot_tree\n",
    "from sklearn.preprocessing import StandardScaler\n",
    "import matplotlib.pyplot as plt\n",
    "\n",
    "X_train, X_test, y_train, y_test = get_specific_features(['sepal length', 'sepal width'])\n",
    "\n",
    "dtc = DecisionTreeClassifier(random_state=42)\n",
    "dtc.fit(X_train, y_train)\n",
    "\n",
    "print_report(y_test, dtc.predict(X_test))\n",
    "plt.figure(figsize=(20,10))\n",
    "plot_tree(dtc, filled=True, class_names=['setosa', 'versicolor', 'virginica'], feature_names=['sepal length', 'sepal width'])\n",
    "plt.show()"
   ]
  },
  {
   "cell_type": "code",
   "execution_count": null,
   "metadata": {},
   "outputs": [],
   "source": [
    "from sklearn import svm\n",
    "\n",
    "X_train, X_test, y_train, y_test = get_specific_features(['sepal length', 'sepal width'])\n",
    "\n",
    "svc = svm.SVC(kernel='rbf', gamma='scale')\n",
    "svc.fit(X_train, y_train)\n",
    "\n",
    "print_report(y_test, svc.predict(X_test))"
   ]
  }
 ],
 "metadata": {
  "kernelspec": {
   "display_name": "lab2",
   "language": "python",
   "name": "python3"
  },
  "language_info": {
   "codemirror_mode": {
    "name": "ipython",
    "version": 3
   },
   "file_extension": ".py",
   "mimetype": "text/x-python",
   "name": "python",
   "nbconvert_exporter": "python",
   "pygments_lexer": "ipython3",
   "version": "3.12.7"
  }
 },
 "nbformat": 4,
 "nbformat_minor": 2
}
